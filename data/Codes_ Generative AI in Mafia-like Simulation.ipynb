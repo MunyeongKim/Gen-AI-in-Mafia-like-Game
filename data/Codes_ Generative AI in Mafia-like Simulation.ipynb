{
 "cells": [
  {
   "cell_type": "code",
   "execution_count": null,
   "id": "95efd18d",
   "metadata": {
    "ExecuteTime": {
     "end_time": "2023-06-15T05:35:23.157371Z",
     "start_time": "2023-06-15T05:35:21.127737Z"
    }
   },
   "outputs": [],
   "source": [
    "import pandas as pd\n",
    "import openai\n",
    "import time\n",
    "from openai.embeddings_utils import get_embedding\n",
    "from openai.embeddings_utils import cosine_similarity\n",
    "openai.api_key = \"put you api key. if you don't have API key, pass.\""
   ]
  },
  {
   "cell_type": "markdown",
   "id": "1837a20b",
   "metadata": {},
   "source": [
    "# Ex2. Playing Spyfall with GPTs"
   ]
  },
  {
   "cell_type": "code",
   "execution_count": null,
   "id": "836046d5",
   "metadata": {
    "ExecuteTime": {
     "end_time": "2023-06-15T05:06:01.965785Z",
     "start_time": "2023-06-15T05:06:01.947018Z"
    }
   },
   "outputs": [],
   "source": [
    "rule = '''\n",
    "The rules for a game of \"Spyfall\" are as follows:\n",
    "\n",
    "There are five players in total, each with a number from 1 to 5. One of them is chosen to be the 'spy', and the goal of the remaining players is to find the spy.\n",
    "\n",
    "The game is played over a total of 10 turns, each turn consisting of\n",
    "1. a player asks another player a question\n",
    "1. the player who was asked the question answers\n",
    "1. after hearing the question and answer, decide if you want to point to a specific player as the spy\n",
    "1.1. vote on whether to hang the player (if someone has been named)\n",
    "1. Decide if the spy will reveal their identity This is done in this order.\n",
    "The first player to ask a question is Player 1, and so on until the player who was asked the question has the opportunity to ask a question on their next turn.\n",
    "\n",
    "Each player has the opportunity to name another player as the \"Spy\" only once during the game. Once a player is named, the rest of the players vote on whether that player should be hung. If the player receives 4 or more votes, they are hung. If the hanged player was a spy, the not-spy players win; otherwise, the spy wins.\n",
    "\n",
    "If the spy reveals that they are the spy, the spy must guess the location. If the location is correct, the spy wins; if it is incorrect, the spy loses.\n",
    "\n",
    "If all 10 turns have been played and the spy has not been revealed, all players vote for the player they think is the spy. The player with the most votes is assumed to be the spy, and if this player is indeed the spy, the normal players win, otherwise the spy wins. If there is more than one player with the most votes, the vote is redone.\n",
    "\n",
    "As the game progresses, at each turn, players will receive the following requests. (There is nothing players can do to affect the game other than the requests below, so players will need to play with that in mind.\n",
    "\n",
    "1. to the player asking the question (for the first turn, Player 1; thereafter, the player who answered the question on the previous turn):\n",
    "    1. Now it's your turn to ask a question. Choose 1-5 players other than yourself, and write a question.\n",
    "    Please write your response in the form (n_player,\"question\")\n",
    "2. When asking for answers to subsequent questions\n",
    "    1. In the nth question, player P asked you the following. Please write your answer to this question inside the \"\" mark.'\n",
    "3. After all questions and answers have been heard, all players will be asked the following on each turn. Note that players may not interact with each other other other than to name players or not to name players.\n",
    "    1. At this point, do you want to use the opportunity to name a spy? If yes, write the number of the player you want to name, otherwise write an X in your response.Please only write numbers or Xs in your response.\n",
    "4. if a player has named someone else as a player, they will be asked to vote as follows. Note that players cannot interact with each other other other than O and X. 1.\n",
    "    1. 'Subsequently, player P accused player Q of being a spy. Therefore, a vote was held. If you want to hang player Q as a spy, please enter O. If not, please enter X.'\n",
    "5. At this point, if no one has accused another player this turn, or if a vote is held but does not receive a sufficient number of votes, the game continues and the spy reveals his or her identity and decides whether to guess the location as follows.\n",
    "    1. At this point, would you identify yourself as a spy and guess the place?\n",
    "    If you would like to reveal your identity and guess the place, please enter the name of the place. If not, please enter an X. Please only answer with a place name or X.\n",
    "6. If the spy has not revealed his or her identity at this point, you will move on to the next turn and repeat the sequence from 1.\n",
    "7. At the end of turn 10, a vote is taken to finally reveal the spy. Note that requests are received in order, starting with Player 1, and may include a three-sentence statement along with the person to be voted out. This vote is repeated until a particular player receives a majority of the votes.\n",
    "Additional. The location is chosen as one of the following lists (no capitalization)\n",
    "[airplane, amusement park, bank, beach, carnival, casino, circus tent, corporate party, crusader army, day spa, embassy, hospital, hotel, military base, movie studio, nightclub, ocean liner, passenger train, pirate ship, polar station, police station, restaurant, school, service station, space station, submarine, supermarket, theater, university, zoo]\n",
    "'''\n",
    "strategy = '''\n",
    "(Additional) When it comes to strategy and how to play \"Spy Fall,\" the following facts can be helpful.\n",
    "1. players should basically keep their conversations vague so that the spy doesn't notice the location. You can execute this effectively by framing your responses to correspond to at least 4 or 5, and, depending on the level of ambiguity needed, up to 20~30 different locations.\n",
    "2. spies will also try to prove that they are not spies by choosing their questions in this way.\n",
    "3. You'll also want to confuse the spy as much as possible in order to reach your goal before they do. Keep in mind that unlike normal players, spies don't have information about the location. \n",
    "4. In response, the Spy will try to deflect suspicion away from themselves by using phrases that imply specific information about the location, or by pointing to other players to add to the confusion.\n",
    "5. To find the spy through the game, you need to closely observe the questions and answers, as well as the nominations and votes of other players. Observe who is suspecting whom.\n",
    "6. In the game, players have no way to express their opinions other than by asking questions, answering questions, and calling out spies. Therefore, if you suspect a player, you should immediately call them out as a spy. If this is a reasonable suspicion, the other players will agree, and if not, they will disagree. Calling out spies is an important strategy because it is the only way to know what other players are doing.\n",
    "7. Spies should reveal their identity when they have enough information about the location, or when they believe the risk of other players identifying them as a spy is sufficiently great.\n",
    "'''\n",
    "rule + strategy\n",
    "\n",
    "# game start\n",
    "gamestart = '''\n",
    "The game has started.\n",
    "'''\n",
    "youspy = '''You're a spy.\n",
    "\n",
    "'''\n",
    "notspy = '''\n",
    "You're not a spy; the location is '{}'.\n",
    "\n",
    "'''\n",
    "youare = '''\n",
    "You are player {}.\n",
    "'''\n",
    "\n",
    "questioner = ''' Now it's your turn to ask a question. Choose 1-5 players other than yourself, and write a question.\n",
    " Please write your response in the form (n_player,\"question\")'''\n",
    "q4 = '''In the {}th question, player {} asked player {} the following.'''\n",
    "q2you = '''In the {}th question, player {} asked you the following.'''\n",
    "askanswer = 'Please write your answer to this question inside the \"\" mark.'\n",
    "\n",
    "answerwas = ''' To this question, player {} responded with the following.'''\n",
    "\n",
    "whetheraccuse = '''At this point, do you want to use the opportunity to name a spy? If yes, write the number of the player you want to name, otherwise write an X in your response.Please only write numbers or Xs in your response.'''\n",
    "nooneaccused = ''' At the end of this question, no one accused anyone else of being a spy.'''\n",
    "whethercomeout = '''At this point, would you identify yourself as a spy and guess the place?\n",
    "If you would like to reveal your identity and guess the place, please enter the name of the place. If not, please enter an X. Please only answer with a place name or X..'''\n",
    "notcameout = ''' The spy did not reveal their identity.'''\n",
    "\n",
    "# accusation\n",
    "theyaccused = 'Subsequently, player {} accused player {} of being a spy.'\n",
    "youagree = 'Therefore, a vote was held. If you want to hang player {} as a spy, please enter O. If not, please enter X.'"
   ]
  },
  {
   "cell_type": "markdown",
   "id": "9552fd75",
   "metadata": {
    "ExecuteTime": {
     "end_time": "2023-05-15T07:01:56.830382Z",
     "start_time": "2023-05-15T07:01:56.816296Z"
    }
   },
   "source": [
    "Cf. when running a game by GPT-4 api, average cost of 1 game is around USD 2.5-3. It varies on how the spy plays game well, and if the game ends later, the cost would be USD 4-5."
   ]
  },
  {
   "cell_type": "code",
   "execution_count": null,
   "id": "4fc20d8e",
   "metadata": {
    "ExecuteTime": {
     "end_time": "2023-06-15T05:06:02.360168Z",
     "start_time": "2023-06-15T05:06:02.345609Z"
    }
   },
   "outputs": [],
   "source": [
    "RSU = rule+strategy+youare"
   ]
  },
  {
   "cell_type": "markdown",
   "id": "c677688e",
   "metadata": {
    "ExecuteTime": {
     "end_time": "2023-09-06T00:39:44.746715Z",
     "start_time": "2023-09-06T00:39:44.730192Z"
    }
   },
   "source": [
    "### Random seeds for spy"
   ]
  },
  {
   "cell_type": "code",
   "execution_count": null,
   "id": "a6e6ea43",
   "metadata": {
    "ExecuteTime": {
     "end_time": "2023-06-15T05:06:02.656206Z",
     "start_time": "2023-06-15T05:06:02.646352Z"
    }
   },
   "outputs": [],
   "source": [
    "import random\n",
    "\n",
    "random.seed(0)\n",
    "\n",
    "# repeat [1, 2, 3, 4, 5] 6 times to get the same number of occurrences\n",
    "numbers = [1, 2, 3, 4, 5] * 6\n",
    "\n",
    "# randomly shuffle the order of the list\n",
    "random.shuffle(numbers)\n",
    "\n",
    "print(numbers)"
   ]
  },
  {
   "cell_type": "code",
   "execution_count": null,
   "id": "f15d4e51",
   "metadata": {
    "ExecuteTime": {
     "end_time": "2023-06-15T05:06:03.046065Z",
     "start_time": "2023-06-15T05:06:03.027136Z"
    }
   },
   "outputs": [],
   "source": [
    "import ast\n",
    "import pyperclip\n",
    "import datetime as dt\n",
    "import random\n",
    "\n",
    "# we set the number of gamecode as the number of the location list.\n",
    "# You can modify this option.\n",
    "\n",
    "num = 9\n",
    "gamecode = 'ena100{}'.format(num+1)\n",
    "game_start = dt.datetime.now()\n",
    "\n",
    "turn = 1\n",
    "#turnlog = {}\n",
    "gamelog = ''\n",
    "questions = []\n",
    "answers = []\n",
    "p_que = 1\n",
    "\n",
    "location_list = ['airplane', 'amusement park', 'bank', 'beach', 'carnival',\n",
    "                 'casino', 'circus tent', 'corporate party',\n",
    "                 'crusader army', 'day spa', 'embassy', 'hospital', 'hotel',\n",
    "                 'military base', 'movie studio', 'nightclub',\n",
    "                 'ocean liner', 'passenger train', 'pirate ship', \n",
    "                 'polar station', 'police station', 'restaurant', 'school',\n",
    "                 'service station', 'space station', 'submarine', 'supermarket',\n",
    "                 'theater', 'university', 'zoo']\n",
    "\n",
    "\n",
    "\n",
    "spy = numbers[num]\n",
    "location =location_list[num]\n",
    "\n",
    "RSU = rule+strategy+youare\n",
    "accusechance = {p: True for p in range(1, 6)}\n",
    "gameover = None\n",
    "OX = {} #related to accuselog - whether they accoused other player.\n",
    "\n",
    "# for logging the vote\n",
    "votelog = []"
   ]
  },
  {
   "cell_type": "markdown",
   "id": "65d91a9f",
   "metadata": {},
   "source": [
    "## Request response to GPT"
   ]
  },
  {
   "cell_type": "code",
   "execution_count": null,
   "id": "cc8e297b",
   "metadata": {
    "ExecuteTime": {
     "end_time": "2023-06-15T05:06:04.294747Z",
     "start_time": "2023-06-15T05:06:04.282558Z"
    },
    "code_folding": []
   },
   "outputs": [],
   "source": [
    "def getGPT4response(script):\n",
    "    return openai.ChatCompletion.create(\n",
    "            model=\"gpt-4\",\n",
    "            messages=[\n",
    "                {\"role\":\"system\",\"content\":\"Be sure to respond as directed by the user.\"},\n",
    "                {\"role\": \"user\", \"content\": script}\n",
    "            ]\n",
    "        )['choices'][0][\"message\"][\"content\"]\n",
    "\n",
    "def q_getGPT4response(script):\n",
    "    return openai.ChatCompletion.create(\n",
    "            model=\"gpt-4\",\n",
    "            messages=[\n",
    "                \n",
    "                {\"role\": \"user\", \"content\": script},\n",
    "                {\"role\":\"assistant\",\"content\":\"(p,'exampleresponse')\"},\n",
    "            ]\n",
    "        )['choices'][0][\"message\"][\"content\"]\n",
    "\n",
    "def a_getGPT4response(script):\n",
    "    return openai.ChatCompletion.create(\n",
    "            model=\"gpt-4\",\n",
    "            messages=[\n",
    "                \n",
    "                {\"role\": \"user\", \"content\": script},\n",
    "                {\"role\":\"assistant\",\"content\":'\"exampleresponse\"'},\n",
    "            ]\n",
    "        )['choices'][0][\"message\"][\"content\"]\n",
    "\n",
    "def accuse_getGPT4response(script):\n",
    "    return openai.ChatCompletion.create(\n",
    "            model=\"gpt-4\",\n",
    "            messages=[\n",
    "                {\"role\":\"assistant\",\"content\":'X'},\n",
    "                {\"role\":\"assistant\",\"content\":'1'},\n",
    "                {\"role\":\"assistant\",\"content\":'2'},\n",
    "                {\"role\":\"assistant\",\"content\":'3'},\n",
    "                {\"role\":\"assistant\",\"content\":'4'},                \n",
    "                {\"role\":\"assistant\",\"content\":'5'},\n",
    "                {\"role\": \"user\", \"content\": script},\n",
    "\n",
    "            ]\n",
    "        )['choices'][0][\"message\"][\"content\"]\n",
    "\n",
    "def vote_getGPT4response(script):\n",
    "    return openai.ChatCompletion.create(\n",
    "            model=\"gpt-4\",\n",
    "            messages=[\n",
    "                {\"role\":\"assistant\",\"content\":'O'},\n",
    "                {\"role\":\"assistant\",\"content\":'X'},   \n",
    "                {\"role\": \"user\", \"content\": script},\n",
    "\n",
    "            ]\n",
    "        )['choices'][0][\"message\"][\"content\"]\n",
    "\n",
    "\n",
    "\n",
    "def co_getGPT4response(script):\n",
    "    return openai.ChatCompletion.create(\n",
    "            model=\"gpt-4\",\n",
    "            messages=[\n",
    "                {\"role\":\"assistant\",\"content\":'X'},\n",
    "                {\"role\":\"assistant\",\"content\":'location name'},\n",
    "                {\"role\": \"user\", \"content\": script},\n",
    "\n",
    "            ]\n",
    "        )['choices'][0][\"message\"][\"content\"]\n"
   ]
  },
  {
   "cell_type": "markdown",
   "id": "6aaa9077",
   "metadata": {},
   "source": [
    "# How about 3.5?\n",
    "\n",
    "We provide the same code but runs with gpt-3.5-turbo. We've also tried to reduce computing cost and tested various ways to circumvent the cost problem with GPT-3.5-turbo. However, as you read in the main text, we failed.\n"
   ]
  },
  {
   "cell_type": "code",
   "execution_count": null,
   "id": "c8fc94f5",
   "metadata": {
    "ExecuteTime": {
     "end_time": "2023-06-15T05:06:42.475267Z",
     "start_time": "2023-06-15T05:06:42.463650Z"
    }
   },
   "outputs": [],
   "source": [
    "def getGPT35response(script):\n",
    "    return openai.ChatCompletion.create(\n",
    "            model=\"gpt-3.5-turbo\",\n",
    "            messages=[\n",
    "                {\"role\":\"system\",\"content\":\"Be sure to respond as directed by the user.\"},\n",
    "                {\"role\": \"user\", \"content\": script}\n",
    "            ]\n",
    "        )['choices'][0][\"message\"][\"content\"]\n",
    "\n",
    "def q_getGPT35response(script):\n",
    "    return openai.ChatCompletion.create(\n",
    "            model=\"gpt-3.5-turbo\",\n",
    "            messages=[\n",
    "                \n",
    "                {\"role\": \"user\", \"content\": script},\n",
    "                {\"role\":\"assistant\",\"content\":\"(p,'exampleresponse')\"},\n",
    "            ]\n",
    "        )['choices'][0][\"message\"][\"content\"]\n",
    "\n",
    "def a_getGPT35response(script):\n",
    "    return openai.ChatCompletion.create(\n",
    "            model=\"gpt-3.5-turbo\",\n",
    "            messages=[\n",
    "                \n",
    "                {\"role\": \"user\", \"content\": script},\n",
    "                {\"role\":\"assistant\",\"content\":'\"exampleresponse\"'},\n",
    "            ]\n",
    "        )['choices'][0][\"message\"][\"content\"]\n",
    "\n",
    "def accuse_getGPT35response(script):\n",
    "    return openai.ChatCompletion.create(\n",
    "            model=\"gpt-3.5-turbo\",\n",
    "            messages=[\n",
    "                {\"role\":\"assistant\",\"content\":'X'},\n",
    "                {\"role\":\"assistant\",\"content\":'1'},\n",
    "                {\"role\":\"assistant\",\"content\":'2'},\n",
    "                {\"role\":\"assistant\",\"content\":'3'},\n",
    "                {\"role\":\"assistant\",\"content\":'4'},                \n",
    "                {\"role\":\"assistant\",\"content\":'5'},\n",
    "                {\"role\": \"user\", \"content\": script},\n",
    "\n",
    "\n",
    "            ]\n",
    "        )['choices'][0][\"message\"][\"content\"]\n",
    "\n",
    "def vote_getGPT35response(script):\n",
    "    return openai.ChatCompletion.create(\n",
    "            model=\"gpt-3.5-turbo\",\n",
    "            messages=[\n",
    "                {\"role\":\"assistant\",\"content\":'O'},\n",
    "                {\"role\":\"assistant\",\"content\":'X'},  \n",
    "                {\"role\": \"user\", \"content\": script},\n",
    "\n",
    "\n",
    "            ]\n",
    "        )['choices'][0][\"message\"][\"content\"]\n",
    "\n",
    "\n",
    "\n",
    "def co_getGPT35response(script):\n",
    "    return openai.ChatCompletion.create(\n",
    "            model=\"gpt-3.5-turbo\",\n",
    "            messages=[\n",
    "                {\"role\":\"assistant\",\"content\":'X'},\n",
    "                {\"role\":\"assistant\",\"content\":'location name'},\n",
    "                {\"role\": \"user\", \"content\": script},\n",
    "\n",
    "            ]\n",
    "        )['choices'][0][\"message\"][\"content\"]\n"
   ]
  },
  {
   "cell_type": "markdown",
   "id": "63937756",
   "metadata": {},
   "source": [
    "## Iteration starts\n",
    "\n",
    "From the start of the game, you just run the every code below repetitively - until the game ends.\n",
    "\n",
    "### Question"
   ]
  },
  {
   "cell_type": "code",
   "execution_count": null,
   "id": "0d898609",
   "metadata": {
    "ExecuteTime": {
     "end_time": "2023-06-08T00:42:40.855827Z",
     "start_time": "2023-06-08T00:42:38.532907Z"
    },
    "scrolled": false
   },
   "outputs": [],
   "source": [
    "# question\n",
    "samepart = gamelog+questioner\n",
    "if p_que != spy:\n",
    "    script = RSU.format(p_que)+notspy.format(location)+samepart\n",
    "    pyperclip.copy(script)\n",
    "    questions.append(ast.literal_eval(q_getGPT4response(script)))\n",
    "elif p_que == spy:\n",
    "    script = RSU.format(p_que)+youspy+samepart\n",
    "    pyperclip.copy(script)\n",
    "    questions.append(ast.literal_eval(q_getGPT4response(script)))\n",
    "print(questions[-1])"
   ]
  },
  {
   "cell_type": "markdown",
   "id": "a9b7c58a",
   "metadata": {},
   "source": [
    "### Answer"
   ]
  },
  {
   "cell_type": "code",
   "execution_count": null,
   "id": "d4e0cbd9",
   "metadata": {
    "ExecuteTime": {
     "end_time": "2023-06-08T00:41:24.254322Z",
     "start_time": "2023-06-08T00:41:19.875283Z"
    },
    "scrolled": true
   },
   "outputs": [],
   "source": [
    "# answer\n",
    "p_ans = questions[turn-1][0]\n",
    "samepart = gamelog+q2you.format(turn, p_que)+questions[turn-1][1]+askanswer\n",
    "if p_ans != spy:\n",
    "    script = RSU.format(p_ans)+notspy.format(location)+samepart\n",
    "    pyperclip.copy(script)\n",
    "    answers.append(a_getGPT4response(script))\n",
    "if p_ans == spy:\n",
    "    script = RSU.format(p_ans)+youspy+samepart\n",
    "    pyperclip.copy(script)\n",
    "    answers.append(a_getGPT4response(script))\n",
    "print(answers[-1])"
   ]
  },
  {
   "cell_type": "markdown",
   "id": "3fff4394",
   "metadata": {},
   "source": [
    "### Accusation"
   ]
  },
  {
   "cell_type": "code",
   "execution_count": null,
   "id": "423dd050",
   "metadata": {
    "ExecuteTime": {
     "end_time": "2023-06-08T00:41:24.332114Z",
     "start_time": "2023-06-08T00:41:24.305839Z"
    }
   },
   "outputs": [],
   "source": [
    "# wherther to accuse\n",
    "gamelog = gamelog + q4.format(turn, p_que, p_ans) + \\\n",
    "    questions[turn-1][1]+answerwas.format(p_ans)+answers[turn-1]\n"
   ]
  },
  {
   "cell_type": "code",
   "execution_count": null,
   "id": "c36f7e6d",
   "metadata": {
    "ExecuteTime": {
     "end_time": "2023-06-08T00:41:24.441886Z",
     "start_time": "2023-06-08T00:41:24.422909Z"
    }
   },
   "outputs": [],
   "source": [
    "OX[turn] = {}"
   ]
  },
  {
   "cell_type": "code",
   "execution_count": null,
   "id": "dfd1550c",
   "metadata": {
    "ExecuteTime": {
     "end_time": "2023-06-08T00:41:53.966690Z",
     "start_time": "2023-06-08T00:41:24.504143Z"
    },
    "code_folding": []
   },
   "outputs": [],
   "source": [
    "# Replace the ones who don't have right to accuse\n",
    "#(who already accused someone earlier)\n",
    "\n",
    "whocanaccuse = [p for p, v in accusechance.items() if v is True]\n",
    "print(whocanaccuse)\n",
    "for p in whocanaccuse:\n",
    "    if p not in OX[turn].keys():\n",
    "        if p != spy:\n",
    "            script = RSU.format(p)+notspy.format(location) + \\\n",
    "                gamelog+whetheraccuse\n",
    "            pyperclip.copy(script)\n",
    "            OX[turn][p] = accuse_getGPT4response(script)\n",
    "        elif p == spy:\n",
    "            script = RSU.format(spy)+youspy+gamelog + whetheraccuse\n",
    "            pyperclip.copy(script)\n",
    "            OX[turn][p] = accuse_getGPT4response(script)\n",
    "        time.sleep(5)\n",
    "        print(p)\n",
    "print(OX[turn])"
   ]
  },
  {
   "cell_type": "markdown",
   "id": "5764af1b",
   "metadata": {},
   "source": [
    "### Processing accusation"
   ]
  },
  {
   "cell_type": "code",
   "execution_count": null,
   "id": "e3d1e16f",
   "metadata": {
    "ExecuteTime": {
     "end_time": "2023-06-08T00:41:54.045000Z",
     "start_time": "2023-06-08T00:41:54.000028Z"
    },
    "code_folding": [
     27
    ]
   },
   "outputs": [],
   "source": [
    "paccusedp = 'Player {} has accused player {} of being a spy.'\n",
    "sostartvote =  'Therefore, we will vote on each player in turn.'\n",
    "allagreed =  '''Four or more players have decided to hang player {}. (Voting result: {})'''\n",
    "notallagreed = notallagreed = 'A vote was started by player {} to hang player {}, but the vote was defeated. (Vote result: {})'\n",
    "\n",
    "# processing accusation\n",
    "p_hang = {}\n",
    "whocanaccuse = [p for p, v in accusechance.items() if v is True]\n",
    "\n",
    "# Adding gamelog \"who picked whom\"\n",
    "someoneaccused = False\n",
    "for p in whocanaccuse:\n",
    "    if OX[turn][p] != 'X':\n",
    "        someoneaccused = True\n",
    "        gamelog += paccusedp.format(p, OX[turn][p])\n",
    "if someoneaccused == True:\n",
    "    gamelog += sostartvote\n",
    "else:\n",
    "    gamelog += nooneaccused\n",
    "\n",
    "\n",
    "# Start Accusation\n",
    "for p in whocanaccuse:\n",
    "    # Pass if no one accused anyone\n",
    "    if OX[turn][p] == 'X':\n",
    "        print('nooneaccused')\n",
    "        pass\n",
    "    else:\n",
    "        try:\n",
    "            p_hang[p] = int(OX[turn][p])\n",
    "        except:\n",
    "            continue\n",
    "        p_hung = p_hang[p]\n",
    "        accusechance[p] = False\n",
    "        # 투표 들어감\n",
    "        votes = {q: None for q in range(1, 6)}\n",
    "        for q in range(1, 6):\n",
    "            if q == p:\n",
    "                votes[q] = 'O'  # 고발한 사람은 자동 O\n",
    "            elif q == p_hung:\n",
    "                votes[q] = 'X'  # 고발당한 사람은 자동 X\n",
    "            else:\n",
    "                if q != spy:\n",
    "                    script = (RSU.format(p)\n",
    "                              + notspy.format(location)\n",
    "                              + gamelog\n",
    "                              + theyaccused.format(p, p_hung)\n",
    "                              + youagree.format(p_hung))\n",
    "                    pyperclip.copy(script)\n",
    "                    votes[q] = getGPT4response(script)\n",
    "                else:\n",
    "                    script = (RSU.format(spy)\n",
    "                              + youspy\n",
    "                              + gamelog\n",
    "                              + theyaccused.format(p_hang[p], p_hung)\n",
    "                              + youagree.format(p_hung))\n",
    "                    pyperclip.copy(script)\n",
    "                    votes[q] = vote_getGPT4response(script)\n",
    "            time.sleep(5)\n",
    "        # 개표\n",
    "        xcount = 0\n",
    "        for q in range(1, 6):\n",
    "            if votes[q] == 'O':\n",
    "                pass\n",
    "            elif votes[q] == 'X':\n",
    "                xcount += 1\n",
    "            else:\n",
    "                pass\n",
    "        # 결과 확인\n",
    "        if xcount < 2:\n",
    "            gameover = allagreed.format(\n",
    "                p_hung, votes)\n",
    "            if p_hung == spy:\n",
    "                gameover += 'Player {} is the spy. Spy loses. '.format(spy)\n",
    "                gamelog += gameover\n",
    "                spywin = False\n",
    "            else:\n",
    "                gameover += 'Player {} is not the spy.'.format(p_hung)\n",
    "                gameover += 'The spy is player {}. The spy wins'.format(spy)\n",
    "                gamelog += gameover\n",
    "                spywin = True\n",
    "            # 게임 끝나기 전에도 votelog 넣어야됨.\n",
    "            votelog.append({'turn': turn,\n",
    "                            'hang': p,\n",
    "                            'hung': p_hung,\n",
    "                            'result': votes,\n",
    "                            'xcount': xcount})\n",
    "            break\n",
    "        else:\n",
    "            gamelog += notallagreed.format(\n",
    "                p, p_hung, votes)\n",
    "\n",
    "    if OX[turn][p] != 'X':\n",
    "        # Add vote log at the end of vote procedure\n",
    "        votelog.append({'turn': turn,\n",
    "                        'hang': p,\n",
    "                        'hung': p_hung,\n",
    "                        'result': votes,\n",
    "                        'xcount': xcount})"
   ]
  },
  {
   "cell_type": "markdown",
   "id": "c84201e6",
   "metadata": {},
   "source": [
    "### For spy: whether to reveal themselves"
   ]
  },
  {
   "cell_type": "code",
   "execution_count": null,
   "id": "04844231",
   "metadata": {
    "ExecuteTime": {
     "end_time": "2023-06-08T00:42:01.360380Z",
     "start_time": "2023-06-08T00:41:54.079484Z"
    },
    "scrolled": true
   },
   "outputs": [],
   "source": [
    "#reveal?\n",
    "if gameover == None:\n",
    "    script = RSU.format(spy)+youspy+gamelog+whethercomeout\n",
    "    pyperclip.copy(script)\n",
    "    spycomeout = getGPT4response(script)\n",
    "    if spycomeout == 'X':\n",
    "        pass\n",
    "    elif spycomeout == location:\n",
    "        gameover = 'Player {} reveals that they are the spy, and they guessed the location. The spy wins.'.format(spy)\n",
    "        gamelog += gameover\n",
    "        spywin = True\n",
    "    else:\n",
    "        gameover = 'Player {} identified themself as the spy and said the correct answer was {}, but it was {}, so the spy loses..'.format(spy,spycomeout,location)\n",
    "        gamelog += gameover\n",
    "        spywin = False\n",
    "else:\n",
    "    print('game already over:{}'.format(gameover))\n",
    "print(gamelog)"
   ]
  },
  {
   "cell_type": "markdown",
   "id": "de1aa868",
   "metadata": {},
   "source": [
    "### Check if game ends - or go to the next turn."
   ]
  },
  {
   "cell_type": "code",
   "execution_count": null,
   "id": "104582b4",
   "metadata": {
    "ExecuteTime": {
     "end_time": "2023-06-08T00:42:01.422340Z",
     "start_time": "2023-06-08T00:42:01.394609Z"
    }
   },
   "outputs": [],
   "source": [
    "if gameover != None:\n",
    "    print(gameover)\n",
    "    full_game_data = {'gamecode': gamecode,\n",
    "                        'spy': spy,\n",
    "                      'location': location,\n",
    "                      'spywin': spywin,\n",
    "                      'game_start': game_start,\n",
    "                      'game_end': dt.datetime.now(),\n",
    "                      'gamelog': gamelog,\n",
    "                      'votelog': votelog,\n",
    "                      'total_turn': turn,\n",
    "                      'questions': questions,\n",
    "                      'answers': answers,\n",
    "                      'accuselog': OX\n",
    "                      }\n",
    "\n",
    "else:\n",
    "    gamelog += notcameout\n",
    "    turn += 1\n",
    "    p_que = questions[turn-2][0]\n",
    "    print(\"turn {} start\".format(turn))"
   ]
  },
  {
   "cell_type": "markdown",
   "id": "a8143418",
   "metadata": {},
   "source": [
    "## Now go up to the \"Iterationg starts\""
   ]
  },
  {
   "cell_type": "markdown",
   "id": "0a9b6124",
   "metadata": {},
   "source": [
    "# Final votes"
   ]
  },
  {
   "cell_type": "code",
   "execution_count": null,
   "id": "321e13ef",
   "metadata": {
    "ExecuteTime": {
     "end_time": "2023-06-07T03:34:39.758127Z",
     "start_time": "2023-06-07T03:34:39.716204Z"
    }
   },
   "outputs": [],
   "source": [
    "# Start vote procedure\n",
    "for p in whocanaccuse:\n",
    "    # if no one accused, pass\n",
    "    if OX[turn][p] == 'X':\n",
    "        print('nooneaccused')\n",
    "        pass\n",
    "    else:\n",
    "        try:\n",
    "            p_hang[p] = int(OX[turn][p])\n",
    "        except:\n",
    "            continue\n",
    "        p_hung = p_hang[p]\n",
    "        accusechance[p] = False\n",
    "        # Start Voting\n",
    "        votes = {q: None for q in range(1, 6)}\n",
    "        for q in range(1, 6):\n",
    "            if q == p:\n",
    "                votes[q] = 'O'  # Automatically 'O' for someone who start voting\n",
    "            elif q == p_hung:\n",
    "                votes[q] = 'X'  # Automatically 'X' for someone who get accused\n",
    "            else:\n",
    "                if q != spy:\n",
    "                    script = (RSU.format(p)\n",
    "                              + notspy.format(location)\n",
    "                              + gamelog\n",
    "                              + theyaccused.format(p, p_hung)\n",
    "                              + youagree.format(p_hung))\n",
    "                    pyperclip.copy(script)\n",
    "                    votes[q] = getGPT4response(script)\n",
    "                else:\n",
    "                    script = (RSU.format(spy)\n",
    "                              + youspy\n",
    "                              + gamelog\n",
    "                              + theyaccused.format(p_hang[p], p_hung)\n",
    "                              + youagree.format(p_hung))\n",
    "                    pyperclip.copy(script)\n",
    "                    votes[q] = vote_getGPT4response(script)\n",
    "            time.sleep(5)\n",
    "        # 개표\n",
    "        xcount = 0\n",
    "        for q in range(1, 6):\n",
    "            if votes[q] == 'O':\n",
    "                pass\n",
    "            elif votes[q] == 'X':\n",
    "                xcount += 1\n",
    "            else:\n",
    "                pass\n",
    "        # 결과 확인\n",
    "        if xcount < 2:\n",
    "            gameover = allagreed.format(\n",
    "                p_hung, votes)\n",
    "            if p_hung == spy:\n",
    "                gameover += 'Player {} is the spy. Spy loses. '.format(spy)\n",
    "                gamelog += gameover\n",
    "                spywin = False\n",
    "            else:\n",
    "                gameover += 'Player {} is not the spy.'.format(p_hung)\n",
    "                gameover += 'The spy is player {}. The spy wins'.format(spy)\n",
    "                gamelog += gameover\n",
    "                spywin = True\n",
    "            # Append votelog before the game ends.\n",
    "            votelog.append({'turn': turn,\n",
    "                            'hang': p,\n",
    "                            'hung': p_hung,\n",
    "                            'result': votes,\n",
    "                            'xcount': xcount})\n",
    "            break\n",
    "        else:\n",
    "            gamelog += notallagreed.format(\n",
    "                p, p_hung, votes)\n",
    "\n",
    "    if OX[turn][p] != 'X':\n",
    "        # Append votelog after the vote ends -> subsequently start another vote\n",
    "        votelog.append({'turn': turn,\n",
    "                        'hang': p,\n",
    "                        'hung': p_hung,\n",
    "                        'result': votes,\n",
    "                        'xcount': xcount})"
   ]
  },
  {
   "cell_type": "markdown",
   "id": "da4bd437",
   "metadata": {},
   "source": [
    "# Saving games"
   ]
  },
  {
   "cell_type": "markdown",
   "id": "e6229ba2",
   "metadata": {},
   "source": [
    "## Appending new game data on full data"
   ]
  },
  {
   "cell_type": "code",
   "execution_count": null,
   "id": "c2378fcc",
   "metadata": {
    "ExecuteTime": {
     "end_time": "2023-06-07T04:16:48.422085Z",
     "start_time": "2023-06-07T04:16:48.416593Z"
    }
   },
   "outputs": [],
   "source": [
    "dataset[full_game_data['gamecode']] = full_game_data"
   ]
  },
  {
   "cell_type": "markdown",
   "id": "96c97014",
   "metadata": {},
   "source": [
    "### show former game data"
   ]
  },
  {
   "cell_type": "code",
   "execution_count": null,
   "id": "49043000",
   "metadata": {
    "ExecuteTime": {
     "end_time": "2023-06-07T04:16:49.441272Z",
     "start_time": "2023-06-07T04:16:49.415657Z"
    },
    "scrolled": true
   },
   "outputs": [],
   "source": [
    "dataset"
   ]
  },
  {
   "cell_type": "markdown",
   "id": "8b4929f8",
   "metadata": {
    "ExecuteTime": {
     "end_time": "2023-05-18T06:06:31.729928Z",
     "start_time": "2023-05-18T06:06:31.720989Z"
    }
   },
   "source": [
    "### Make a pickle"
   ]
  },
  {
   "cell_type": "code",
   "execution_count": null,
   "id": "eb56934e",
   "metadata": {
    "ExecuteTime": {
     "end_time": "2023-06-07T04:03:51.499169Z",
     "start_time": "2023-06-07T04:03:51.490609Z"
    }
   },
   "outputs": [],
   "source": [
    "import pickle"
   ]
  },
  {
   "cell_type": "code",
   "execution_count": null,
   "id": "bbf1d87c",
   "metadata": {
    "ExecuteTime": {
     "end_time": "2023-06-07T04:17:09.796685Z",
     "start_time": "2023-06-07T04:17:09.782052Z"
    }
   },
   "outputs": [],
   "source": [
    "with open('231102spyfalldataset.pkl','wb') as file:\n",
    "    pickle.dump(dataset,file)"
   ]
  },
  {
   "cell_type": "markdown",
   "id": "dc791569",
   "metadata": {},
   "source": [
    "# Ex 1. First question comparison: GPT-4 vs GPT-3.5-turbo"
   ]
  },
  {
   "cell_type": "code",
   "execution_count": null,
   "id": "4b0e9039",
   "metadata": {
    "ExecuteTime": {
     "end_time": "2023-06-15T05:06:57.963043Z",
     "start_time": "2023-06-15T05:06:57.943428Z"
    }
   },
   "outputs": [],
   "source": [
    "testscript = '''\n",
    "The rules for a game of \"Spyfall\" are as follows:\n",
    "\n",
    "There are five players in total, each with a number from 1 to 5. One of them is chosen to be the 'spy', and the goal of the remaining players is to find the spy.\n",
    "\n",
    "The game is played over a total of 10 turns, each turn consisting of\n",
    "1. a player asks another player a question\n",
    "1. the player who was asked the question answers\n",
    "1. after hearing the question and answer, decide if you want to point to a specific player as the spy\n",
    "1.1. vote on whether to hang the player (if someone has been named)\n",
    "1. Decide if the spy will reveal their identity This is done in this order.\n",
    "The first player to ask a question is Player 1, and so on until the player who was asked the question has the opportunity to ask a question on their next turn.\n",
    "\n",
    "Each player has the opportunity to name another player as the \"Spy\" only once during the game. Once a player is named, the rest of the players vote on whether that player should be hung. If the player receives 4 or more votes, they are hung. If the hanged player was a spy, the not-spy players win; otherwise, the spy wins.\n",
    "\n",
    "If the spy reveals that they are the spy, the spy must guess the location. If the location is correct, the spy wins; if it is incorrect, the spy loses.\n",
    "\n",
    "If all 10 turns have been played and the spy has not been revealed, all players vote for the player they think is the spy. The player with the most votes is assumed to be the spy, and if this player is indeed the spy, the normal players win, otherwise the spy wins. If there is more than one player with the most votes, the vote is redone.\n",
    "\n",
    "As the game progresses, at each turn, players will receive the following requests. (There is nothing players can do to affect the game other than the requests below, so players will need to play with that in mind.\n",
    "\n",
    "1. to the player asking the question (for the first turn, Player 1; thereafter, the player who answered the question on the previous turn):\n",
    "    1. Now it's your turn to ask a question. Choose 1-5 players other than yourself, and write a question.\n",
    "    Please write your response in the form (n_player,\"question\")\n",
    "2. When asking for answers to subsequent questions\n",
    "    1. In the nth question, player P asked you the following. Please write your answer to this question inside the \"\" mark.'\n",
    "3. After all questions and answers have been heard, all players will be asked the following on each turn. Note that players may not interact with each other other other than to name players or not to name players.\n",
    "    1. At this point, do you want to use the opportunity to name a spy? If yes, write the number of the player you want to name, otherwise write an X in your response.Please only write numbers or Xs in your response.\n",
    "4. if a player has named someone else as a player, they will be asked to vote as follows. Note that players cannot interact with each other other other than O and X. 1.\n",
    "    1. 'Subsequently, player P accused player Q of being a spy. Therefore, a vote was held. If you want to hang player Q as a spy, please enter O. If not, please enter X.'\n",
    "5. At this point, if no one has accused another player this turn, or if a vote is held but does not receive a sufficient number of votes, the game continues and the spy reveals his or her identity and decides whether to guess the location as follows.\n",
    "    1. At this point, would you identify yourself as a spy and guess the place?\n",
    "    If you would like to reveal your identity and guess the place, please enter the name of the place. If not, please enter an X. Please only answer with a place name or X.\n",
    "6. If the spy has not revealed his or her identity at this point, you will move on to the next turn and repeat the sequence from 1.\n",
    "7. At the end of turn 10, a vote is taken to finally reveal the spy. Note that requests are received in order, starting with Player 1, and may include a three-sentence statement along with the person to be voted out. This vote is repeated until a particular player receives a majority of the votes.\n",
    "Additional. The location is chosen as one of the following lists (no capitalization)\n",
    "[airplane, amusement park, bank, beach, carnival, casino, circus tent, corporate party, crusader army, day spa, embassy, hospital, hotel, military base, movie studio, nightclub, ocean liner, passenger train, pirate ship, polar station, police station, restaurant, school, service station, space station, submarine, supermarket, theater, university, zoo]\n",
    "(Additional) When it comes to strategy and how to play \"Spy Fall,\" the following facts can be helpful.\n",
    "1. players should basically keep their conversations vague so that the spy doesn't notice the location. You can execute this effectively by framing your responses to correspond to at least 4 or 5, and, depending on the level of ambiguity needed, up to 20~30 different locations.\n",
    "2. spies will also try to prove that they are not spies by choosing their questions in this way.\n",
    "3. You'll also want to confuse the spy as much as possible in order to reach your goal before they do. Keep in mind that unlike normal players, spies don't have information about the location. \n",
    "4. In response, the Spy will try to deflect suspicion away from themselves by using phrases that imply specific information about the location, or by pointing to other players to add to the confusion.\n",
    "5. To find the spy through the game, you need to closely observe the questions and answers, as well as the nominations and votes of other players. Observe who is suspecting whom.\n",
    "6. In the game, players have no way to express their opinions other than by asking questions, answering questions, and calling out spies. Therefore, if you suspect a player, you should immediately call them out as a spy. If this is a reasonable suspicion, the other players will agree, and if not, they will disagree. Calling out spies is an important strategy because it is the only way to know what other players are doing.\n",
    "7. Spies should reveal their identity when they have enough information about the location, or when they believe the risk of other players identifying them as a spy is sufficiently great.\n",
    "You are player 1. You're not a spy; the location is '{}'. Now it's your turn to ask a question. Choose 1-5 players other than yourself, and write a question.\n",
    " Please write your response in the form (n_player,\"question\")\n",
    "\n",
    "'''\n",
    "testscript"
   ]
  },
  {
   "cell_type": "code",
   "execution_count": null,
   "id": "7b81ee6a",
   "metadata": {
    "ExecuteTime": {
     "end_time": "2023-06-13T04:51:02.735706Z",
     "start_time": "2023-06-13T04:51:02.727004Z"
    }
   },
   "outputs": [],
   "source": [
    "first_turn_questions_GPT4 = {location:None for location in location_list}\n",
    "first_turn_questions_GPT35 = {location:None for location in location_list}"
   ]
  },
  {
   "cell_type": "markdown",
   "id": "15956b3b",
   "metadata": {},
   "source": [
    "## GPT-4"
   ]
  },
  {
   "cell_type": "code",
   "execution_count": null,
   "id": "ad5efd93",
   "metadata": {
    "ExecuteTime": {
     "end_time": "2023-06-13T04:56:02.812302Z",
     "start_time": "2023-06-13T04:54:33.059020Z"
    }
   },
   "outputs": [],
   "source": [
    "for location in location_list:\n",
    "    first_turn_questions_GPT4[location] = q_getGPT4response(testscript.format(location))\n",
    "    print(location)\n",
    "    print(first_turn_questions_GPT4[location])\n",
    "    print('\\n\\n')"
   ]
  },
  {
   "cell_type": "markdown",
   "id": "26f9d0fb",
   "metadata": {},
   "source": [
    "## GPT-3.5-turbo"
   ]
  },
  {
   "cell_type": "code",
   "execution_count": null,
   "id": "54617950",
   "metadata": {
    "ExecuteTime": {
     "end_time": "2023-06-13T04:57:53.523379Z",
     "start_time": "2023-06-13T04:56:14.147891Z"
    }
   },
   "outputs": [],
   "source": [
    "for location in location_list:\n",
    "    first_turn_questions_GPT35[location] = q_getGPT35response(testscript.format(location))\n",
    "    print(location)\n",
    "    print(first_turn_questions_GPT35[location])\n",
    "    print('\\n\\n')"
   ]
  },
  {
   "cell_type": "markdown",
   "id": "88315e71",
   "metadata": {},
   "source": [
    "### cf. If model doesn't respond with (n,player), we've repeated the request."
   ]
  },
  {
   "cell_type": "code",
   "execution_count": null,
   "id": "1ad010c3",
   "metadata": {
    "ExecuteTime": {
     "end_time": "2023-06-13T05:06:44.297520Z",
     "start_time": "2023-06-13T05:05:11.840944Z"
    },
    "scrolled": true
   },
   "outputs": [],
   "source": [
    "first_turn_questions_GPT35_2 = {location:None for location in location_list}\n",
    "for location in ['amusement park', 'bank', \n",
    "                 'casino', 'circus tent', 'corporate party',\n",
    "                 'crusader army', 'day spa', 'hospital',\n",
    "                 'military base', 'movie studio', 'nightclub',\n",
    "                 'ocean liner',  'pirate ship', \n",
    "                 'polar station', \n",
    "                  'space station', 'submarine', \n",
    "                 'theater', 'zoo']:\n",
    "    first_turn_questions_GPT35_2[location] = q_getGPT35response(testscript.format(location))\n",
    "    print(location)\n",
    "    print(first_turn_questions_GPT35_2[location])\n",
    "    print('\\n\\n')"
   ]
  },
  {
   "cell_type": "code",
   "execution_count": null,
   "id": "31f681a0",
   "metadata": {
    "ExecuteTime": {
     "end_time": "2023-06-13T05:08:30.445842Z",
     "start_time": "2023-06-13T05:08:05.871036Z"
    },
    "scrolled": true
   },
   "outputs": [],
   "source": [
    "\n",
    "\n",
    "\n",
    "first_turn_questions_GPT35_3 = {location:None for location in location_list}\n",
    "for location in [\n",
    "                'corporate party',\n",
    "                  'hospital', 'zoo']:\n",
    "    first_turn_questions_GPT35_3[location] = q_getGPT35response(testscript.format(location))\n",
    "    print(location)\n",
    "    print(first_turn_questions_GPT35_3[location])\n",
    "    print('\\n\\n')"
   ]
  },
  {
   "cell_type": "code",
   "execution_count": null,
   "id": "1a28aa66",
   "metadata": {
    "ExecuteTime": {
     "end_time": "2023-06-13T05:09:08.955331Z",
     "start_time": "2023-06-13T05:09:01.654474Z"
    }
   },
   "outputs": [],
   "source": [
    "\n",
    "first_turn_questions_GPT35_4 = {location:None for location in location_list}\n",
    "for location in [\n",
    "                  'hospital', 'zoo']:\n",
    "    first_turn_questions_GPT35_4[location] = q_getGPT35response(testscript.format(location))\n",
    "    print(location)\n",
    "    print(first_turn_questions_GPT35_4[location])\n",
    "    print('\\n\\n')"
   ]
  },
  {
   "cell_type": "code",
   "execution_count": null,
   "id": "42d2d9df",
   "metadata": {
    "ExecuteTime": {
     "end_time": "2023-06-13T05:09:41.515931Z",
     "start_time": "2023-06-13T05:09:37.493245Z"
    }
   },
   "outputs": [],
   "source": [
    "first_turn_questions_GPT35_5 = {location:None for location in location_list}\n",
    "for location in [\n",
    "                  'hospital', 'zoo']:\n",
    "    first_turn_questions_GPT35_5[location] = q_getGPT35response(testscript.format(location))\n",
    "    print(location)\n",
    "    print(first_turn_questions_GPT35_5[location])\n",
    "    print('\\n\\n')"
   ]
  },
  {
   "cell_type": "code",
   "execution_count": null,
   "id": "cb551ff5",
   "metadata": {
    "ExecuteTime": {
     "end_time": "2023-06-13T05:10:03.646020Z",
     "start_time": "2023-06-13T05:09:58.379559Z"
    }
   },
   "outputs": [],
   "source": [
    "first_turn_questions_GPT35_6= {location:None for location in location_list}\n",
    "for location in [\n",
    "                  'hospital', 'zoo']:\n",
    "    first_turn_questions_GPT35_6[location] = q_getGPT35response(testscript.format(location))\n",
    "    print(location)\n",
    "    print(first_turn_questions_GPT35_6[location])\n",
    "    print('\\n\\n')"
   ]
  },
  {
   "cell_type": "code",
   "execution_count": null,
   "id": "a19dfe6e",
   "metadata": {
    "ExecuteTime": {
     "end_time": "2023-06-13T05:10:45.829320Z",
     "start_time": "2023-06-13T05:10:23.546445Z"
    }
   },
   "outputs": [],
   "source": [
    "first_turn_questions_GPT35_7 = {location:None for location in location_list}\n",
    "for location in ['zoo']:\n",
    "    first_turn_questions_GPT35_7[location] = q_getGPT35response(testscript.format(location))\n",
    "    print(location)\n",
    "    print(first_turn_questions_GPT35_7[location])\n",
    "    print('\\n\\n')"
   ]
  },
  {
   "cell_type": "code",
   "execution_count": null,
   "id": "185142ed",
   "metadata": {
    "ExecuteTime": {
     "end_time": "2023-06-13T05:11:22.690279Z",
     "start_time": "2023-06-13T05:11:19.925382Z"
    }
   },
   "outputs": [],
   "source": [
    "first_turn_questions_GPT35_8 = {location:None for location in location_list}\n",
    "for location in ['zoo']:\n",
    "    first_turn_questions_GPT35_8[location] = q_getGPT35response(testscript.format(location))\n",
    "    print(location)\n",
    "    print(first_turn_questions_GPT35_8[location])\n",
    "    print('\\n\\n')"
   ]
  },
  {
   "cell_type": "code",
   "execution_count": null,
   "id": "d9ffeda6",
   "metadata": {
    "ExecuteTime": {
     "end_time": "2023-06-13T05:11:37.536412Z",
     "start_time": "2023-06-13T05:11:35.654384Z"
    }
   },
   "outputs": [],
   "source": [
    "first_turn_questions_GPT35_9 = {location:None for location in location_list}\n",
    "for location in ['zoo']:\n",
    "    first_turn_questions_GPT35_9[location] = q_getGPT35response(testscript.format(location))\n",
    "    print(location)\n",
    "    print(first_turn_questions_GPT35_9[location])\n",
    "    print('\\n\\n')"
   ]
  },
  {
   "cell_type": "code",
   "execution_count": null,
   "id": "056abc5d",
   "metadata": {
    "ExecuteTime": {
     "end_time": "2023-06-13T05:11:55.971647Z",
     "start_time": "2023-06-13T05:11:53.930587Z"
    }
   },
   "outputs": [],
   "source": [
    "first_turn_questions_GPT35_10 = {location:None for location in location_list}\n",
    "for location in ['zoo']:\n",
    "    first_turn_questions_GPT35_10[location] = q_getGPT35response(testscript.format(location))\n",
    "    print(location)\n",
    "    print(first_turn_questions_GPT35_10[location])\n",
    "    print('\\n\\n')"
   ]
  },
  {
   "cell_type": "code",
   "execution_count": null,
   "id": "d2e85df0",
   "metadata": {
    "ExecuteTime": {
     "end_time": "2023-06-13T05:12:12.874375Z",
     "start_time": "2023-06-13T05:12:09.998339Z"
    }
   },
   "outputs": [],
   "source": [
    "first_turn_questions_GPT35_11 = {location:None for location in location_list}\n",
    "for location in ['zoo']:\n",
    "    first_turn_questions_GPT35_11[location] = q_getGPT35response(testscript.format(location))\n",
    "    print(location)\n",
    "    print(first_turn_questions_GPT35_11[location])\n",
    "    print('\\n\\n')"
   ]
  },
  {
   "cell_type": "code",
   "execution_count": null,
   "id": "630046e9",
   "metadata": {
    "ExecuteTime": {
     "end_time": "2023-06-13T05:12:28.227080Z",
     "start_time": "2023-06-13T05:12:25.542918Z"
    }
   },
   "outputs": [],
   "source": [
    "first_turn_questions_GPT35_12 = {location:None for location in location_list}\n",
    "for location in ['zoo']:\n",
    "    first_turn_questions_GPT35_12[location] = q_getGPT35response(testscript.format(location))\n",
    "    print(location)\n",
    "    print(first_turn_questions_GPT35_12[location])\n",
    "    print('\\n\\n')"
   ]
  },
  {
   "cell_type": "markdown",
   "id": "6129c0c3",
   "metadata": {},
   "source": [
    "### Requesting police station for gpt-3.5-turbo - (we've omitted.)"
   ]
  },
  {
   "cell_type": "code",
   "execution_count": null,
   "id": "de416976",
   "metadata": {
    "ExecuteTime": {
     "end_time": "2023-06-15T05:07:05.358447Z",
     "start_time": "2023-06-15T05:07:03.453455Z"
    }
   },
   "outputs": [],
   "source": [
    "first_turn_questions_GPT35_12 = {location:None for location in location_list}\n",
    "for location in ['police station']:\n",
    "    first_turn_questions_GPT35_12[location] = q_getGPT35response(testscript.format(location))\n",
    "    print(location)\n",
    "    print(first_turn_questions_GPT35_12[location])\n",
    "    print('\\n\\n')"
   ]
  }
 ],
 "metadata": {
  "hide_input": false,
  "kernelspec": {
   "display_name": "Python 3 (ipykernel)",
   "language": "python",
   "name": "python3"
  },
  "language_info": {
   "codemirror_mode": {
    "name": "ipython",
    "version": 3
   },
   "file_extension": ".py",
   "mimetype": "text/x-python",
   "name": "python",
   "nbconvert_exporter": "python",
   "pygments_lexer": "ipython3",
   "version": "3.9.7"
  },
  "varInspector": {
   "cols": {
    "lenName": 16,
    "lenType": 16,
    "lenVar": 40
   },
   "kernels_config": {
    "python": {
     "delete_cmd_postfix": "",
     "delete_cmd_prefix": "del ",
     "library": "var_list.py",
     "varRefreshCmd": "print(var_dic_list())"
    },
    "r": {
     "delete_cmd_postfix": ") ",
     "delete_cmd_prefix": "rm(",
     "library": "var_list.r",
     "varRefreshCmd": "cat(var_dic_list()) "
    }
   },
   "types_to_exclude": [
    "module",
    "function",
    "builtin_function_or_method",
    "instance",
    "_Feature"
   ],
   "window_display": false
  }
 },
 "nbformat": 4,
 "nbformat_minor": 5
}
